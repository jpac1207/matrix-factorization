{
 "cells": [
  {
   "cell_type": "code",
   "execution_count": 72,
   "id": "44725af5",
   "metadata": {},
   "outputs": [],
   "source": [
    "import numpy as np\n",
    "from numpy.linalg import norm"
   ]
  },
  {
   "cell_type": "code",
   "execution_count": 57,
   "id": "0a873ba3",
   "metadata": {},
   "outputs": [],
   "source": [
    "class matrix_factorization():\n",
    "    def __init__(self, data, number_of_features):\n",
    "        self.data = data\n",
    "        self.number_of_features = number_of_features        \n",
    "        self.user_count = data.shape[0]\n",
    "        self.item_count = data.shape[1]\n",
    "        self.user_features = np.random.uniform(low=0.1, high=0.9, size=(self.user_count, self.number_of_features))\n",
    "        self.item_features = np.random.uniform(low=0.1, high=0.9, size=(self.number_of_features, self.item_count))\n",
    "    \n",
    "    def mse(self):\n",
    "        matrix_product = np.matmul(self.user_features, self.item_features)\n",
    "        return np.sum((self.data - matrix_product)**2)\n",
    "    \n",
    "    def single_gradient(self, user_row, item_col, wrt_user_idx=None, wrt_item_idx=None):        \n",
    "        \n",
    "        if wrt_user_idx != None and wrt_item_idx != None:            \n",
    "            return \"To many elements!\"\n",
    "        elif wrt_user_idx == None and wrt_item_idx == None:            \n",
    "            return \"Insufficient elements!\"\n",
    "        \n",
    "        else:\n",
    "            u_row = self.user_features[user_row, :]\n",
    "            i_col = self.item_features[:, item_col]\n",
    "            reference_values = float(self.data[user_row, item_col])\n",
    "            prediction = float(np.dot(u_row, i_col))\n",
    "        \n",
    "            if wrt_user_idx != None:\n",
    "                row_element = float(i_col[wrt_user_idx])\n",
    "                gradient = 2 * (reference_values - prediction) * row_element\n",
    "            else:\n",
    "                col_element = float(u_row[wrt_item_idx])\n",
    "                gradient = 2 * (reference_values - prediction) * col_element               \n",
    "            return gradient\n",
    "    \n",
    "    def user_feature_gradient(self, user_row, wrt_user_idx):\n",
    "        summation = 0\n",
    "        for col in range(0, self.item_count):\n",
    "            summation += self.single_gradient(user_row=user_row, item_col=col, wrt_user_idx=wrt_user_idx)\n",
    "        return summation / self.item_count\n",
    "    \n",
    "    def item_feature_gradient(self, item_col, wrt_item_idx):\n",
    "        summation = 0\n",
    "        for row in range(0, self.user_count):            \n",
    "            summation += self.single_gradient(user_row=row, item_col=item_col, wrt_item_idx=wrt_item_idx)            \n",
    "        return summation / self.user_count\n",
    "    \n",
    "    def update_user_features(self, learning_rate):\n",
    "        for i in range(0, self.user_count):\n",
    "            for j in range(self.number_of_features):\n",
    "                self.user_features[i, j] += learning_rate * self.user_feature_gradient(user_row=i, wrt_user_idx=j)\n",
    "    \n",
    "    def update_item_features(self, learning_rate):\n",
    "        for i in range(0, self.number_of_features):\n",
    "            for j in range(0, self.item_count):                \n",
    "                self.item_features[i, j] += learning_rate * self.item_feature_gradient(item_col=j, wrt_item_idx=i)\n",
    "                \n",
    "    def train(self, learning_rate=0.1, iterations=1000):\n",
    "        for i in range(iterations):\n",
    "            self.update_user_features(learning_rate)\n",
    "            self.update_item_features(learning_rate)\n",
    "            if (i % 50 == 0):\n",
    "                print(self.mse())\n",
    "        \n",
    "    "
   ]
  },
  {
   "cell_type": "markdown",
   "id": "048e1a6f",
   "metadata": {},
   "source": [
    "## Treinando o modelo"
   ]
  },
  {
   "cell_type": "code",
   "execution_count": 116,
   "id": "3e4f8909",
   "metadata": {},
   "outputs": [
    {
     "data": {
      "text/plain": [
       "array([[5, 3, 1],\n",
       "       [1, 3, 0],\n",
       "       [5, 4, 1],\n",
       "       [0, 3, 0],\n",
       "       [5, 4, 0]])"
      ]
     },
     "execution_count": 116,
     "metadata": {},
     "output_type": "execute_result"
    }
   ],
   "source": [
    "data = np.array([[5,3,1], [1,3,0], [5,4,1], [0, 3, 0], [5, 4, 0]])\n",
    "data"
   ]
  },
  {
   "cell_type": "code",
   "execution_count": 108,
   "id": "e0bb3103",
   "metadata": {
    "scrolled": false
   },
   "outputs": [
    {
     "name": "stdout",
     "output_type": "stream",
     "text": [
      "28.915733675931094\n",
      "0.16908213906315223\n",
      "0.0017117215043079468\n",
      "1.2166438694761487e-05\n",
      "1.6996242958271694e-07\n",
      "3.065555586706764e-09\n",
      "6.607491970745466e-11\n",
      "1.6042134454072607e-12\n",
      "4.1579257296107965e-14\n",
      "1.112339788118202e-15\n",
      "3.019116166456445e-17\n",
      "8.247990027585096e-19\n",
      "2.2599494240525964e-20\n",
      "6.200723004384611e-22\n",
      "1.7023316570571086e-23\n",
      "4.677923010981538e-25\n",
      "1.2796041822462372e-26\n",
      "3.590152873337034e-28\n",
      "1.7921474558087106e-29\n",
      "9.033050096378819e-30\n"
     ]
    }
   ],
   "source": [
    "model = matrix_factorization(data, 5)\n",
    "model.train()"
   ]
  },
  {
   "cell_type": "markdown",
   "id": "4e9da3c6",
   "metadata": {},
   "source": [
    "## Verificando as features"
   ]
  },
  {
   "cell_type": "code",
   "execution_count": 118,
   "id": "f3f84826",
   "metadata": {
    "scrolled": true
   },
   "outputs": [
    {
     "data": {
      "text/plain": [
       "array([[ 0.43362315,  0.59112795,  1.77635166,  0.66199543,  0.78540458],\n",
       "       [ 0.7665225 ,  0.54715589, -0.51519345,  0.97991785,  0.83787965],\n",
       "       [ 0.80332458,  0.69134973,  1.3408136 ,  0.57429211,  1.37434562],\n",
       "       [-0.00473894,  0.37691901, -0.35373212,  0.56288186,  0.27582299],\n",
       "       [ 1.6045746 ,  1.49142372,  0.99187913,  1.03653392,  0.58719001]])"
      ]
     },
     "execution_count": 118,
     "metadata": {},
     "output_type": "execute_result"
    }
   ],
   "source": [
    "model.user_features"
   ]
  },
  {
   "cell_type": "code",
   "execution_count": 119,
   "id": "bc6211e9",
   "metadata": {
    "scrolled": true
   },
   "outputs": [
    {
     "data": {
      "text/plain": [
       "array([[ 0.75605568,  1.17419961, -0.35232492],\n",
       "       [ 0.7390992 ,  0.86157942, -0.20687264],\n",
       "       [ 1.90089253,  0.29548949,  0.41818088],\n",
       "       [ 0.29019687,  0.82866775,  0.11294725],\n",
       "       [ 0.84859697,  1.15617948,  0.58244831]])"
      ]
     },
     "execution_count": 119,
     "metadata": {},
     "output_type": "execute_result"
    }
   ],
   "source": [
    "model.item_features"
   ]
  },
  {
   "cell_type": "markdown",
   "id": "71ecbf2d",
   "metadata": {},
   "source": [
    "## Reconstruíndo a matriz original"
   ]
  },
  {
   "cell_type": "code",
   "execution_count": 120,
   "id": "1dff3015",
   "metadata": {
    "scrolled": true
   },
   "outputs": [
    {
     "data": {
      "text/plain": [
       "array([[ 5.00000000e+00,  3.00000000e+00,  1.00000000e+00],\n",
       "       [ 1.00000000e+00,  3.00000000e+00,  6.18200638e-16],\n",
       "       [ 5.00000000e+00,  4.00000000e+00,  1.00000000e+00],\n",
       "       [ 3.15802679e-16,  1.00000000e+00, -4.62410698e-16],\n",
       "       [ 5.00000000e+00,  5.00000000e+00,  1.32523700e-16]])"
      ]
     },
     "execution_count": 120,
     "metadata": {},
     "output_type": "execute_result"
    }
   ],
   "source": [
    "np.dot(model.user_features, model.item_features)"
   ]
  },
  {
   "cell_type": "markdown",
   "id": "7e0615ed",
   "metadata": {},
   "source": [
    "## Computando similaridade"
   ]
  },
  {
   "cell_type": "code",
   "execution_count": 121,
   "id": "c1866475",
   "metadata": {},
   "outputs": [],
   "source": [
    "def cosine_similarity(A,B):\n",
    "    return np.dot(A,B)/(norm(A)*norm(B))"
   ]
  },
  {
   "cell_type": "markdown",
   "id": "4707aa3a",
   "metadata": {},
   "source": [
    "## Usuários"
   ]
  },
  {
   "cell_type": "code",
   "execution_count": 122,
   "id": "d031d27d",
   "metadata": {},
   "outputs": [
    {
     "data": {
      "text/plain": [
       "0.9308499901812838"
      ]
     },
     "execution_count": 122,
     "metadata": {},
     "output_type": "execute_result"
    }
   ],
   "source": [
    "cosine_similarity(model.user_features[0, :], model.user_features[2, :])"
   ]
  },
  {
   "cell_type": "markdown",
   "id": "d10a5060",
   "metadata": {},
   "source": [
    "## Itens"
   ]
  },
  {
   "cell_type": "code",
   "execution_count": null,
   "id": "e60d0e7c",
   "metadata": {},
   "outputs": [],
   "source": [
    "cosine_similarity(model.user_features[0, :], model.user_features[3, :])"
   ]
  }
 ],
 "metadata": {
  "kernelspec": {
   "display_name": "Python 3 (ipykernel)",
   "language": "python",
   "name": "python3"
  },
  "language_info": {
   "codemirror_mode": {
    "name": "ipython",
    "version": 3
   },
   "file_extension": ".py",
   "mimetype": "text/x-python",
   "name": "python",
   "nbconvert_exporter": "python",
   "pygments_lexer": "ipython3",
   "version": "3.9.16"
  }
 },
 "nbformat": 4,
 "nbformat_minor": 5
}
