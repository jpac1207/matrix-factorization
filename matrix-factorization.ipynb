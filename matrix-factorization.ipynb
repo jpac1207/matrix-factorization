{
 "cells": [
  {
   "cell_type": "code",
   "execution_count": 1,
   "id": "c4f0c7a6",
   "metadata": {},
   "outputs": [],
   "source": [
    "import numpy as np"
   ]
  },
  {
   "cell_type": "code",
   "execution_count": 57,
   "id": "233b5c1d",
   "metadata": {},
   "outputs": [],
   "source": [
    "class matrix_factorization():\n",
    "    def __init__(self, data, number_of_features):\n",
    "        self.data = data\n",
    "        self.number_of_features = number_of_features        \n",
    "        self.user_count = data.shape[0]\n",
    "        self.item_count = data.shape[1]\n",
    "        self.user_features = np.random.uniform(low=0.1, high=0.9, size=(self.user_count, self.number_of_features))\n",
    "        self.item_features = np.random.uniform(low=0.1, high=0.9, size=(self.number_of_features, self.item_count))\n",
    "    \n",
    "    def mse(self):\n",
    "        matrix_product = np.matmul(self.user_features, self.item_features)\n",
    "        return np.sum((self.data - matrix_product)**2)\n",
    "    \n",
    "    def single_gradient(self, user_row, item_col, wrt_user_idx=None, wrt_item_idx=None):        \n",
    "        \n",
    "        if wrt_user_idx != None and wrt_item_idx != None:            \n",
    "            return \"To many elements!\"\n",
    "        elif wrt_user_idx == None and wrt_item_idx == None:            \n",
    "            return \"Insufficient elements!\"\n",
    "        \n",
    "        else:\n",
    "            u_row = self.user_features[user_row, :]\n",
    "            i_col = self.item_features[:, item_col]\n",
    "            reference_values = float(self.data[user_row, item_col])\n",
    "            prediction = float(np.dot(u_row, i_col))\n",
    "        \n",
    "            if wrt_user_idx != None:\n",
    "                row_element = float(i_col[wrt_user_idx])\n",
    "                gradient = 2 * (reference_values - prediction) * row_element\n",
    "            else:\n",
    "                col_element = float(u_row[wrt_item_idx])\n",
    "                gradient = 2 * (reference_values - prediction) * col_element               \n",
    "            return gradient\n",
    "    \n",
    "    def user_feature_gradient(self, user_row, wrt_user_idx):\n",
    "        summation = 0\n",
    "        for col in range(0, self.item_count):\n",
    "            summation += self.single_gradient(user_row=user_row, item_col=col, wrt_user_idx=wrt_user_idx)\n",
    "        return summation / self.item_count\n",
    "    \n",
    "    def item_feature_gradient(self, item_col, wrt_item_idx):\n",
    "        summation = 0\n",
    "        for row in range(0, self.user_count):            \n",
    "            summation += self.single_gradient(user_row=row, item_col=item_col, wrt_item_idx=wrt_item_idx)            \n",
    "        return summation / self.user_count\n",
    "    \n",
    "    def update_user_features(self, learning_rate):\n",
    "        for i in range(0, self.user_count):\n",
    "            for j in range(self.number_of_features):\n",
    "                self.user_features[i, j] += learning_rate * self.user_feature_gradient(user_row=i, wrt_user_idx=j)\n",
    "    \n",
    "    def update_item_features(self, learning_rate):\n",
    "        for i in range(0, self.number_of_features):\n",
    "            for j in range(0, self.item_count):                \n",
    "                self.item_features[i, j] += learning_rate * self.item_feature_gradient(item_col=j, wrt_item_idx=i)\n",
    "                \n",
    "    def train(self, learning_rate=0.1, iterations=1000):\n",
    "        for i in range(iterations):\n",
    "            self.update_user_features(learning_rate)\n",
    "            self.update_item_features(learning_rate)\n",
    "            if (i % 50 == 0):\n",
    "                print(self.mse())\n",
    "        \n",
    "    "
   ]
  },
  {
   "cell_type": "markdown",
   "id": "22e612e7",
   "metadata": {},
   "source": [
    "## Treinando o modelo"
   ]
  },
  {
   "cell_type": "code",
   "execution_count": 67,
   "id": "452f554e",
   "metadata": {},
   "outputs": [
    {
     "data": {
      "text/plain": [
       "array([[5, 3, 1],\n",
       "       [1, 3, 5],\n",
       "       [3, 5, 1]])"
      ]
     },
     "execution_count": 67,
     "metadata": {},
     "output_type": "execute_result"
    }
   ],
   "source": [
    "data = np.array([[5,3,1], [1,3,5], [3,5,1]])\n",
    "data"
   ]
  },
  {
   "cell_type": "code",
   "execution_count": 68,
   "id": "ef73e23f",
   "metadata": {
    "scrolled": false
   },
   "outputs": [
    {
     "name": "stdout",
     "output_type": "stream",
     "text": [
      "41.3551541150372\n",
      "3.5386552903991793\n",
      "3.5386552492239662\n",
      "3.538655249223966\n",
      "3.538655249223966\n",
      "3.538655249223966\n",
      "3.538655249223966\n",
      "3.538655249223966\n",
      "3.538655249223966\n",
      "3.538655249223966\n",
      "3.538655249223966\n",
      "3.538655249223966\n",
      "3.538655249223966\n",
      "3.538655249223966\n",
      "3.538655249223966\n",
      "3.538655249223966\n",
      "3.538655249223966\n",
      "3.538655249223966\n",
      "3.538655249223966\n",
      "3.538655249223966\n"
     ]
    }
   ],
   "source": [
    "model = matrix_factorization(data, 2)\n",
    "model.train()"
   ]
  },
  {
   "cell_type": "markdown",
   "id": "c0cd0706",
   "metadata": {},
   "source": [
    "## Verificando as features"
   ]
  },
  {
   "cell_type": "code",
   "execution_count": 69,
   "id": "cf05aced",
   "metadata": {
    "scrolled": true
   },
   "outputs": [
    {
     "data": {
      "text/plain": [
       "array([[2.03681438, 0.30768046],\n",
       "       [0.22276917, 2.35645899],\n",
       "       [1.79131479, 0.76783969]])"
      ]
     },
     "execution_count": 69,
     "metadata": {},
     "output_type": "execute_result"
    }
   ],
   "source": [
    "model.user_features"
   ]
  },
  {
   "cell_type": "code",
   "execution_count": 70,
   "id": "e2f8f741",
   "metadata": {
    "scrolled": true
   },
   "outputs": [
    {
     "data": {
      "text/plain": [
       "array([[ 2.078815  ,  1.71412819, -0.04191824],\n",
       "       [ 0.15152044,  1.20245465,  2.07847464]])"
      ]
     },
     "execution_count": 70,
     "metadata": {},
     "output_type": "execute_result"
    }
   ],
   "source": [
    "model.item_features"
   ]
  },
  {
   "cell_type": "markdown",
   "id": "b48f059b",
   "metadata": {},
   "source": [
    "## Reconstruíndo a matriz original"
   ]
  },
  {
   "cell_type": "code",
   "execution_count": 71,
   "id": "8cefc4e5",
   "metadata": {},
   "outputs": [
    {
     "data": {
      "text/plain": [
       "array([[4.28078016, 3.86133275, 0.55412635],\n",
       "       [0.8201476 , 3.21539   , 4.88850218],\n",
       "       [3.84015545, 3.99383559, 1.52084655]])"
      ]
     },
     "execution_count": 71,
     "metadata": {},
     "output_type": "execute_result"
    }
   ],
   "source": [
    "np.dot(model.user_features, model.item_features)"
   ]
  }
 ],
 "metadata": {
  "kernelspec": {
   "display_name": "Python 3 (ipykernel)",
   "language": "python",
   "name": "python3"
  },
  "language_info": {
   "codemirror_mode": {
    "name": "ipython",
    "version": 3
   },
   "file_extension": ".py",
   "mimetype": "text/x-python",
   "name": "python",
   "nbconvert_exporter": "python",
   "pygments_lexer": "ipython3",
   "version": "3.9.16"
  }
 },
 "nbformat": 4,
 "nbformat_minor": 5
}
