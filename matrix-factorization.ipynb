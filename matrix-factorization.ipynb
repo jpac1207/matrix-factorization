{
 "cells": [
  {
   "cell_type": "code",
   "execution_count": 72,
   "id": "d24819e2",
   "metadata": {},
   "outputs": [],
   "source": [
    "import numpy as np\n",
    "from numpy.linalg import norm"
   ]
  },
  {
   "cell_type": "code",
   "execution_count": 57,
   "id": "7102206f",
   "metadata": {},
   "outputs": [],
   "source": [
    "class matrix_factorization():\n",
    "    def __init__(self, data, number_of_features):\n",
    "        self.data = data\n",
    "        self.number_of_features = number_of_features        \n",
    "        self.user_count = data.shape[0]\n",
    "        self.item_count = data.shape[1]\n",
    "        self.user_features = np.random.uniform(low=0.1, high=0.9, size=(self.user_count, self.number_of_features))\n",
    "        self.item_features = np.random.uniform(low=0.1, high=0.9, size=(self.number_of_features, self.item_count))\n",
    "    \n",
    "    def mse(self):\n",
    "        matrix_product = np.matmul(self.user_features, self.item_features)\n",
    "        return np.sum((self.data - matrix_product)**2)\n",
    "    \n",
    "    def single_gradient(self, user_row, item_col, wrt_user_idx=None, wrt_item_idx=None):        \n",
    "        \n",
    "        if wrt_user_idx != None and wrt_item_idx != None:            \n",
    "            return \"To many elements!\"\n",
    "        elif wrt_user_idx == None and wrt_item_idx == None:            \n",
    "            return \"Insufficient elements!\"\n",
    "        \n",
    "        else:\n",
    "            u_row = self.user_features[user_row, :]\n",
    "            i_col = self.item_features[:, item_col]\n",
    "            reference_values = float(self.data[user_row, item_col])\n",
    "            prediction = float(np.dot(u_row, i_col))\n",
    "        \n",
    "            if wrt_user_idx != None:\n",
    "                row_element = float(i_col[wrt_user_idx])\n",
    "                gradient = 2 * (reference_values - prediction) * row_element\n",
    "            else:\n",
    "                col_element = float(u_row[wrt_item_idx])\n",
    "                gradient = 2 * (reference_values - prediction) * col_element               \n",
    "            return gradient\n",
    "    \n",
    "    def user_feature_gradient(self, user_row, wrt_user_idx):\n",
    "        summation = 0\n",
    "        for col in range(0, self.item_count):\n",
    "            summation += self.single_gradient(user_row=user_row, item_col=col, wrt_user_idx=wrt_user_idx)\n",
    "        return summation / self.item_count\n",
    "    \n",
    "    def item_feature_gradient(self, item_col, wrt_item_idx):\n",
    "        summation = 0\n",
    "        for row in range(0, self.user_count):            \n",
    "            summation += self.single_gradient(user_row=row, item_col=item_col, wrt_item_idx=wrt_item_idx)            \n",
    "        return summation / self.user_count\n",
    "    \n",
    "    def update_user_features(self, learning_rate):\n",
    "        for i in range(0, self.user_count):\n",
    "            for j in range(self.number_of_features):\n",
    "                self.user_features[i, j] += learning_rate * self.user_feature_gradient(user_row=i, wrt_user_idx=j)\n",
    "    \n",
    "    def update_item_features(self, learning_rate):\n",
    "        for i in range(0, self.number_of_features):\n",
    "            for j in range(0, self.item_count):                \n",
    "                self.item_features[i, j] += learning_rate * self.item_feature_gradient(item_col=j, wrt_item_idx=i)\n",
    "                \n",
    "    def train(self, learning_rate=0.1, iterations=1000):\n",
    "        for i in range(iterations):\n",
    "            self.update_user_features(learning_rate)\n",
    "            self.update_item_features(learning_rate)\n",
    "            if (i % 50 == 0):\n",
    "                print(self.mse())\n",
    "        \n",
    "    "
   ]
  },
  {
   "cell_type": "markdown",
   "id": "039fe61d",
   "metadata": {},
   "source": [
    "## Treinando o modelo"
   ]
  },
  {
   "cell_type": "code",
   "execution_count": 92,
   "id": "2a859cec",
   "metadata": {},
   "outputs": [
    {
     "data": {
      "text/plain": [
       "array([[5, 3, 1],\n",
       "       [1, 3, 5],\n",
       "       [5, 4, 1],\n",
       "       [0, 1, 0]])"
      ]
     },
     "execution_count": 92,
     "metadata": {},
     "output_type": "execute_result"
    }
   ],
   "source": [
    "data = np.array([[5,3,1], [1,3,5], [5,4,1], [0, 1, 0]])\n",
    "data"
   ]
  },
  {
   "cell_type": "code",
   "execution_count": 93,
   "id": "bb603121",
   "metadata": {
    "scrolled": false
   },
   "outputs": [
    {
     "name": "stdout",
     "output_type": "stream",
     "text": [
      "36.735759939219186\n",
      "0.0010779167720836322\n",
      "5.5043588483417025e-09\n",
      "1.0381545357435983e-13\n",
      "1.4961480423677698e-17\n",
      "2.6112903615421708e-21\n",
      "4.554615135253541e-25\n",
      "7.652001514932373e-29\n",
      "3.619704543330529e-30\n",
      "3.3257246000873896e-30\n",
      "3.572243632968956e-30\n",
      "3.572243632968956e-30\n",
      "3.572243632968956e-30\n",
      "3.572243632968956e-30\n",
      "3.572243632968956e-30\n",
      "3.572243632968956e-30\n",
      "3.572243632968956e-30\n",
      "3.572243632968956e-30\n",
      "3.572243632968956e-30\n",
      "3.572243632968956e-30\n"
     ]
    }
   ],
   "source": [
    "model = matrix_factorization(data, 5)\n",
    "model.train()"
   ]
  },
  {
   "cell_type": "markdown",
   "id": "8ac08db7",
   "metadata": {},
   "source": [
    "## Verificando as features"
   ]
  },
  {
   "cell_type": "code",
   "execution_count": 96,
   "id": "263bad2f",
   "metadata": {
    "scrolled": true
   },
   "outputs": [
    {
     "data": {
      "text/plain": [
       "array([[ 1.76154154,  0.15923686,  0.47157139,  1.03974575,  0.99605132],\n",
       "       [-0.34076851,  1.32005974,  1.94348245,  1.09540824,  0.39789041],\n",
       "       [ 1.89492449,  0.82149761,  0.58567059,  0.27648202,  0.98641479],\n",
       "       [-0.01896408,  0.75657779, -0.36078171, -0.01951881,  0.29335937]])"
      ]
     },
     "execution_count": 96,
     "metadata": {},
     "output_type": "execute_result"
    }
   ],
   "source": [
    "model.user_features"
   ]
  },
  {
   "cell_type": "code",
   "execution_count": 97,
   "id": "a6addca3",
   "metadata": {
    "scrolled": true
   },
   "outputs": [
    {
     "data": {
      "text/plain": [
       "array([[ 1.94392167,  0.91216238, -0.53093523],\n",
       "       [-0.08359942,  1.31159583,  0.61980744],\n",
       "       [ 0.51968768,  0.6043597 ,  1.59840026],\n",
       "       [ 0.33220069,  0.06710194,  0.67917381],\n",
       "       [ 1.00249778,  0.83285465,  0.37813349]])"
      ]
     },
     "execution_count": 97,
     "metadata": {},
     "output_type": "execute_result"
    }
   ],
   "source": [
    "model.item_features"
   ]
  },
  {
   "cell_type": "markdown",
   "id": "7def0626",
   "metadata": {},
   "source": [
    "## Reconstruíndo a matriz original"
   ]
  },
  {
   "cell_type": "code",
   "execution_count": 98,
   "id": "74c4d341",
   "metadata": {
    "scrolled": true
   },
   "outputs": [
    {
     "data": {
      "text/plain": [
       "array([[ 5.00000000e+00,  3.00000000e+00,  1.00000000e+00],\n",
       "       [ 1.00000000e+00,  3.00000000e+00,  5.00000000e+00],\n",
       "       [ 5.00000000e+00,  4.00000000e+00,  1.00000000e+00],\n",
       "       [-2.41685828e-16,  1.00000000e+00,  3.05839025e-17]])"
      ]
     },
     "execution_count": 98,
     "metadata": {},
     "output_type": "execute_result"
    }
   ],
   "source": [
    "np.dot(model.user_features, model.item_features)"
   ]
  },
  {
   "cell_type": "markdown",
   "id": "b9c8cfd5",
   "metadata": {},
   "source": [
    "## Computando similaridade"
   ]
  },
  {
   "cell_type": "code",
   "execution_count": 99,
   "id": "6a1ab02b",
   "metadata": {},
   "outputs": [],
   "source": [
    "def cosine_similarity(A,B):\n",
    "    return np.dot(A,B)/(norm(A)*norm(B))"
   ]
  },
  {
   "cell_type": "code",
   "execution_count": 100,
   "id": "8fd293b5",
   "metadata": {},
   "outputs": [
    {
     "data": {
      "text/plain": [
       "0.9052677440786913"
      ]
     },
     "execution_count": 100,
     "metadata": {},
     "output_type": "execute_result"
    }
   ],
   "source": [
    "cosine_similarity(model.user_features[0, :], model.user_features[2, :])"
   ]
  }
 ],
 "metadata": {
  "kernelspec": {
   "display_name": "Python 3 (ipykernel)",
   "language": "python",
   "name": "python3"
  },
  "language_info": {
   "codemirror_mode": {
    "name": "ipython",
    "version": 3
   },
   "file_extension": ".py",
   "mimetype": "text/x-python",
   "name": "python",
   "nbconvert_exporter": "python",
   "pygments_lexer": "ipython3",
   "version": "3.9.16"
  }
 },
 "nbformat": 4,
 "nbformat_minor": 5
}
